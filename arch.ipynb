{
 "cells": [
  {
   "cell_type": "code",
   "execution_count": 167,
   "metadata": {},
   "outputs": [],
   "source": [
    "import datetime as dt\n",
    "import pandas_datareader.data as web\n",
    "import numpy as np\n",
    "import pandas as pd\n",
    "import datetime as dt\n",
    "import pmdarima\n",
    "import matplotlib.pyplot as plt\n",
    "from datetime import datetime\n",
    "from arch import arch_model"
   ]
  },
  {
   "cell_type": "code",
   "execution_count": 168,
   "metadata": {},
   "outputs": [],
   "source": [
    "def getData():\n",
    "    \"\"\"\n",
    "    Random walk model simply needs to predict the open price from previous timestep with some random noise\n",
    "    params: arr (NumPy array)\n",
    "    returns: output (Numpy array of size 1 x 5)\n",
    "    \"\"\"\n",
    "    output = np.load(\"data\\\\tensor.npy\")\n",
    "    return output[:,562:,:]\n",
    "\n",
    "data = getData()"
   ]
  },
  {
   "cell_type": "code",
   "execution_count": 169,
   "metadata": {},
   "outputs": [],
   "source": [
    "apple_adj = web.DataReader('AAPL', 'yahoo', start='1999-11-26', end='2019-10-23')[\"Adj Close\"]\n",
    "amzn_adj = web.DataReader('AMZN', 'yahoo', start='1999-11-26', end='2019-10-23')[\"Adj Close\"]\n",
    "msft_adj = web.DataReader('MSFT', 'yahoo', start='1999-11-26', end='2019-10-23')[\"Adj Close\"]\n",
    "\n",
    "apple_returns = 100 * apple_adj.pct_change().dropna()\n",
    "amzn_returns = 100 * amzn_adj.pct_change().dropna()\n",
    "msft_returns = 100 * msft_adj.pct_change().dropna()"
   ]
  },
  {
   "cell_type": "code",
   "execution_count": 188,
   "metadata": {},
   "outputs": [],
   "source": [
    "y_train = apple_returns.to_numpy()[:-20]\n",
    "y_test = apple_returns.to_numpy()[-20:]\n",
    "x_train = getData()[0][:-20]\n",
    "x_test = getData()[0][-20:]"
   ]
  },
  {
   "cell_type": "code",
   "execution_count": 189,
   "metadata": {},
   "outputs": [
    {
     "name": "stdout",
     "output_type": "stream",
     "text": [
      "Iteration:      1,   Func. Count:      7,   Neg. LLF: 40304.171804678874\n",
      "Iteration:      2,   Func. Count:     16,   Neg. LLF: 21772.195067432996\n",
      "Iteration:      3,   Func. Count:     25,   Neg. LLF: 15232.258883207736\n",
      "Iteration:      4,   Func. Count:     32,   Neg. LLF: 10681.612147187723\n",
      "Iteration:      5,   Func. Count:     38,   Neg. LLF: 18832.711028843554\n",
      "Iteration:      6,   Func. Count:     46,   Neg. LLF: 14844.978621820641\n",
      "Iteration:      7,   Func. Count:     54,   Neg. LLF: 10677.461724006871\n",
      "Iteration:      8,   Func. Count:     61,   Neg. LLF: 11984.789044337533\n",
      "Iteration:      9,   Func. Count:     70,   Neg. LLF: 13327.737962660402\n",
      "Iteration:     10,   Func. Count:     77,   Neg. LLF: 10671.823473194629\n",
      "Iteration:     11,   Func. Count:     83,   Neg. LLF: 10671.809874710885\n",
      "Iteration:     12,   Func. Count:     89,   Neg. LLF: 10671.808454178548\n",
      "Iteration:     13,   Func. Count:     95,   Neg. LLF: 10671.80842733035\n",
      "Iteration:     14,   Func. Count:    101,   Neg. LLF: 10671.808426657306\n",
      "Optimization terminated successfully    (Exit mode 0)\n",
      "            Current function value: 10671.808426657306\n",
      "            Iterations: 14\n",
      "            Function evaluations: 101\n",
      "            Gradient evaluations: 14\n"
     ]
    }
   ],
   "source": [
    "# fit ARIMA on Apple returns\n",
    "arima = pmdarima.auto_arima(y_train, x_train)\n",
    "p, d, q = arima.order\n",
    "arima_residuals = arima.arima_res_.resid\n",
    "\n",
    "# fit GARCH(1, 1) model on ARIMA residuals\n",
    "garch = arch.arch_model(y=arima_residuals, vol=\"Garch\", p=1, q=1, dist=\"t\")\n",
    "garch_fitted = garch.fit()\n",
    "\n",
    "# predicted_mu\n",
    "predicted_mu = arima.predict(n_periods=20, X=x_test)\n",
    "\n",
    "# predicted residual\n",
    "garch_forecast = garch_fitted.forecast(horizon=20, reindex=True)\n",
    "predicted_et = garch_forecast.mean.iloc[-1].to_numpy()\n",
    "\n",
    "# yhat\n",
    "yhat = predicted_mu + predicted_et"
   ]
  },
  {
   "cell_type": "code",
   "execution_count": 186,
   "metadata": {},
   "outputs": [
    {
     "data": {
      "image/png": "[encoded data removed]",
      "text/plain": [
       "<Figure size 432x288 with 1 Axes>"
      ]
     },
     "metadata": {
      "needs_background": "light"
     },
     "output_type": "display_data"
    }
   ],
   "source": [
    "plt.plot(yhat, label=\"ARIMA-GARCH(1,1)\")\n",
    "plt.plot(y_test, label=\"Oberved Returns\")\n",
    "plt.legend()\n",
    "plt.show()"
   ]
  },
  {
   "cell_type": "code",
   "execution_count": 190,
   "metadata": {},
   "outputs": [
    {
     "data": {
      "text/plain": [
       "1.0917823433342349"
      ]
     },
     "execution_count": 190,
     "metadata": {},
     "output_type": "execute_result"
    }
   ],
   "source": [
    "def mae(yhat, y):\n",
    "    residuals =  [abs(pair[1] - pair[0]) for pair in zip(yhat, y)]\n",
    "    return sum(residuals) / len(residuals)\n",
    "\n",
    "mae(yhat, y_test)"
   ]
  }
 ],
 "metadata": {
  "interpreter": {
   "hash": "ba65c22c89096d306d81d10aa6315e4a6a7c200a5c173536a89973d439e71adc"
  },
  "kernelspec": {
   "display_name": "Python 3.9.6 64-bit",
   "language": "python",
   "name": "python3"
  },
  "language_info": {
   "codemirror_mode": {
    "name": "ipython",
    "version": 3
   },
   "file_extension": ".py",
   "mimetype": "text/x-python",
   "name": "python",
   "nbconvert_exporter": "python",
   "pygments_lexer": "ipython3",
   "version": "3.9.6"
  },
  "orig_nbformat": 4
 },
 "nbformat": 4,
 "nbformat_minor": 2
}
