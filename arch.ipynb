{
 "cells": [
  {
   "cell_type": "code",
   "execution_count": 5,
   "metadata": {},
   "outputs": [],
   "source": [
    "import datetime as dt\n",
    "\n",
    "import pandas_datareader.data as web\n",
    "\n",
    "from arch import arch_model\n",
    "\n",
    "start = dt.datetime(2000, 1, 1)\n",
    "end = dt.datetime(2014, 1, 1)\n",
    "sp500 = web.DataReader('^GSPC', 'yahoo', start=start, end=end)\n",
    "returns = 100 * sp500['Adj Close'].pct_change().dropna()\n",
    "am = arch_model(returns, dist=\"t\")"
   ]
  },
  {
   "cell_type": "code",
   "execution_count": 6,
   "metadata": {},
   "outputs": [
    {
     "name": "stdout",
     "output_type": "stream",
     "text": [
      "Iteration:      1,   Func. Count:      7,   Neg. LLF: 210157.57024652307\n",
      "Iteration:      2,   Func. Count:     17,   Neg. LLF: 146306.14568579488\n",
      "Iteration:      3,   Func. Count:     25,   Neg. LLF: 5125.853146737974\n",
      "Iteration:      4,   Func. Count:     32,   Neg. LLF: 5116.636899874653\n",
      "Iteration:      5,   Func. Count:     39,   Neg. LLF: 8110.627179187513\n",
      "Iteration:      6,   Func. Count:     46,   Neg. LLF: 8585.52436260918\n",
      "Iteration:      7,   Func. Count:     53,   Neg. LLF: 5103.458898249705\n",
      "Iteration:      8,   Func. Count:     60,   Neg. LLF: 5650.2823348668335\n",
      "Iteration:      9,   Func. Count:     67,   Neg. LLF: 5100.757133017296\n",
      "Iteration:     10,   Func. Count:     74,   Neg. LLF: 5098.824910242163\n",
      "Iteration:     11,   Func. Count:     80,   Neg. LLF: 5098.804365060898\n",
      "Iteration:     12,   Func. Count:     86,   Neg. LLF: 5098.804316531463\n",
      "Iteration:     13,   Func. Count:     92,   Neg. LLF: 5098.804313741175\n",
      "Iteration:     14,   Func. Count:     97,   Neg. LLF: 5098.804313741175\n",
      "Optimization terminated successfully    (Exit mode 0)\n",
      "            Current function value: 5098.804313741175\n",
      "            Iterations: 14\n",
      "            Function evaluations: 97\n",
      "            Gradient evaluations: 14\n"
     ]
    }
   ],
   "source": [
    "res = am.fit()"
   ]
  },
  {
   "cell_type": "code",
   "execution_count": 7,
   "metadata": {},
   "outputs": [
    {
     "name": "stdout",
     "output_type": "stream",
     "text": [
      "                        Constant Mean - GARCH Model Results                         \n",
      "====================================================================================\n",
      "Dep. Variable:                    Adj Close   R-squared:                       0.000\n",
      "Mean Model:                   Constant Mean   Adj. R-squared:                  0.000\n",
      "Vol Model:                            GARCH   Log-Likelihood:               -5098.80\n",
      "Distribution:      Standardized Student's t   AIC:                           10207.6\n",
      "Method:                  Maximum Likelihood   BIC:                           10238.4\n",
      "                                              No. Observations:                 3520\n",
      "Date:                      Tue, Mar 08 2022   Df Residuals:                     3519\n",
      "Time:                              13:00:52   Df Model:                            1\n",
      "                                 Mean Model                                 \n",
      "============================================================================\n",
      "                 coef    std err          t      P>|t|      95.0% Conf. Int.\n",
      "----------------------------------------------------------------------------\n",
      "mu             0.0619  1.425e-02      4.344  1.400e-05 [3.397e-02,8.982e-02]\n",
      "                              Volatility Model                              \n",
      "============================================================================\n",
      "                 coef    std err          t      P>|t|      95.0% Conf. Int.\n",
      "----------------------------------------------------------------------------\n",
      "omega          0.0112  3.488e-03      3.199  1.377e-03 [4.324e-03,1.800e-02]\n",
      "alpha[1]       0.0845  1.116e-02      7.575  3.595e-14   [6.265e-02,  0.106]\n",
      "beta[1]        0.9098  1.124e-02     80.946      0.000     [  0.888,  0.932]\n",
      "                              Distribution                              \n",
      "========================================================================\n",
      "                 coef    std err          t      P>|t|  95.0% Conf. Int.\n",
      "------------------------------------------------------------------------\n",
      "nu             8.0226      1.114      7.202  5.935e-13 [  5.839, 10.206]\n",
      "========================================================================\n",
      "\n",
      "Covariance estimator: robust\n"
     ]
    }
   ],
   "source": [
    "print(res.summary())"
   ]
  },
  {
   "cell_type": "code",
   "execution_count": 9,
   "metadata": {},
   "outputs": [
    {
     "data": {
      "image/png": "[encoded data removed]",
      "text/plain": [
       "<Figure size 432x288 with 1 Axes>"
      ]
     },
     "metadata": {
      "needs_background": "light"
     },
     "output_type": "display_data"
    }
   ],
   "source": [
    "# create a simple white noise with increasing variance\n",
    "from random import gauss\n",
    "from random import seed\n",
    "from matplotlib import pyplot\n",
    "# seed pseudorandom number generator\n",
    "seed(1)\n",
    "# create dataset\n",
    "data = [gauss(0, i*0.01) for i in range(0,100)]\n",
    "# plot\n",
    "pyplot.plot(data)\n",
    "pyplot.show()"
   ]
  },
  {
   "cell_type": "code",
   "execution_count": 10,
   "metadata": {},
   "outputs": [],
   "source": [
    "# split into train/test\n",
    "n_test = 10\n",
    "train, test = data[:-n_test], data[-n_test:]"
   ]
  },
  {
   "cell_type": "code",
   "execution_count": 15,
   "metadata": {},
   "outputs": [],
   "source": [
    "# define model\n",
    "model = arch_model(train, mean='Zero', vol='GARCH', p=15, q=15)"
   ]
  },
  {
   "cell_type": "code",
   "execution_count": 13,
   "metadata": {},
   "outputs": [
    {
     "name": "stdout",
     "output_type": "stream",
     "text": [
      "Iteration:      1,   Func. Count:     19,   Neg. LLF: 134.61803781240258\n",
      "Iteration:      2,   Func. Count:     42,   Neg. LLF: 234.67765579469832\n",
      "Iteration:      3,   Func. Count:     61,   Neg. LLF: 54.69064928295527\n",
      "Iteration:      4,   Func. Count:     80,   Neg. LLF: 148.61335331394014\n",
      "Iteration:      5,   Func. Count:     99,   Neg. LLF: 37.0386435609428\n",
      "Iteration:      6,   Func. Count:    118,   Neg. LLF: 32.43415468514967\n",
      "Iteration:      7,   Func. Count:    137,   Neg. LLF: 31.56118234181622\n",
      "Iteration:      8,   Func. Count:    156,   Neg. LLF: 38.40622049345874\n",
      "Iteration:      9,   Func. Count:    175,   Neg. LLF: 25.845205140007074\n",
      "Iteration:     10,   Func. Count:    193,   Neg. LLF: 29.327531748664274\n",
      "Iteration:     11,   Func. Count:    212,   Neg. LLF: 25.559005114213686\n",
      "Iteration:     12,   Func. Count:    230,   Neg. LLF: 27.486840601341374\n",
      "Iteration:     13,   Func. Count:    250,   Neg. LLF: 25.84906992396469\n",
      "Iteration:     14,   Func. Count:    269,   Neg. LLF: 26.04658902219064\n",
      "Iteration:     15,   Func. Count:    288,   Neg. LLF: 25.48010893450625\n",
      "Iteration:     16,   Func. Count:    306,   Neg. LLF: 25.478265121286714\n",
      "Iteration:     17,   Func. Count:    324,   Neg. LLF: 25.477656145254997\n",
      "Iteration:     18,   Func. Count:    342,   Neg. LLF: 25.47737005663826\n",
      "Iteration:     19,   Func. Count:    360,   Neg. LLF: 25.47743495805829\n",
      "Iteration:     20,   Func. Count:    388,   Neg. LLF: 25.47691978674719\n",
      "Iteration:     21,   Func. Count:    416,   Neg. LLF: 25.477273284707266\n",
      "Iteration:     22,   Func. Count:    444,   Neg. LLF: 27.543165074309314\n",
      "Iteration:     23,   Func. Count:    465,   Neg. LLF: 29.210716392083484\n",
      "Iteration:     24,   Func. Count:    486,   Neg. LLF: 25.524811611171334\n",
      "Iteration:     25,   Func. Count:    507,   Neg. LLF: 25.486904628943503\n",
      "Iteration:     26,   Func. Count:    528,   Neg. LLF: 25.478885654125378\n",
      "Iteration:     27,   Func. Count:    548,   Neg. LLF: 25.478258480273972\n",
      "Iteration:     28,   Func. Count:    568,   Neg. LLF: 25.47750836401128\n",
      "Iteration:     29,   Func. Count:    587,   Neg. LLF: 25.478276396186118\n",
      "Iteration:     30,   Func. Count:    607,   Neg. LLF: 25.477507633259407\n",
      "Iteration:     31,   Func. Count:    624,   Neg. LLF: 25.47750783961827\n",
      "Optimization terminated successfully    (Exit mode 0)\n",
      "            Current function value: 25.477507633259407\n",
      "            Iterations: 32\n",
      "            Function evaluations: 624\n",
      "            Gradient evaluations: 31\n"
     ]
    }
   ],
   "source": [
    "# fit model\n",
    "model_fit = model.fit()"
   ]
  },
  {
   "cell_type": "code",
   "execution_count": 14,
   "metadata": {},
   "outputs": [
    {
     "name": "stderr",
     "output_type": "stream",
     "text": [
      "C:\\Users\\Calvin\\AppData\\Local\\Programs\\Python\\Python39\\lib\\site-packages\\arch\\__future__\\_utility.py:11: FutureWarning: \n",
      "The default for reindex is True. After September 2021 this will change to\n",
      "False. Set reindex to True or False to silence this message. Alternatively,\n",
      "you can use the import comment\n",
      "\n",
      "from arch.__future__ import reindexing\n",
      "\n",
      "to globally set reindex to True and silence this warning.\n",
      "\n",
      "  warnings.warn(\n"
     ]
    }
   ],
   "source": [
    "# forecast the test set\n",
    "yhat = model_fit.forecast(horizon=n_test)"
   ]
  },
  {
   "cell_type": "code",
   "execution_count": 16,
   "metadata": {},
   "outputs": [
    {
     "name": "stdout",
     "output_type": "stream",
     "text": [
      "Iteration:      1,   Func. Count:     33,   Neg. LLF: 134.2317665883839\n",
      "Iteration:      2,   Func. Count:     70,   Neg. LLF: 95143.89889693505\n",
      "Iteration:      3,   Func. Count:    103,   Neg. LLF: 544.0642933451215\n",
      "Iteration:      4,   Func. Count:    136,   Neg. LLF: 359.71934329672257\n",
      "Iteration:      5,   Func. Count:    169,   Neg. LLF: 120.68440702788735\n",
      "Iteration:      6,   Func. Count:    202,   Neg. LLF: 57.67989249945465\n",
      "Iteration:      7,   Func. Count:    235,   Neg. LLF: 37.233827705923716\n",
      "Iteration:      8,   Func. Count:    268,   Neg. LLF: 44.28485299843633\n",
      "Iteration:      9,   Func. Count:    301,   Neg. LLF: 30.955777300460745\n",
      "Iteration:     10,   Func. Count:    334,   Neg. LLF: 26.957534677373722\n",
      "Iteration:     11,   Func. Count:    366,   Neg. LLF: 31.3580409658397\n",
      "Iteration:     12,   Func. Count:    400,   Neg. LLF: 30.014493583203443\n",
      "Iteration:     13,   Func. Count:    433,   Neg. LLF: 28.461108093598074\n",
      "Iteration:     14,   Func. Count:    466,   Neg. LLF: 27.699889811892838\n",
      "Iteration:     15,   Func. Count:    499,   Neg. LLF: 26.904388797274514\n",
      "Iteration:     16,   Func. Count:    532,   Neg. LLF: 25.516071922827045\n",
      "Iteration:     17,   Func. Count:    564,   Neg. LLF: 25.510907831311023\n",
      "Iteration:     18,   Func. Count:    597,   Neg. LLF: 25.783788607050088\n",
      "Iteration:     19,   Func. Count:    630,   Neg. LLF: 25.49211347795663\n",
      "Iteration:     20,   Func. Count:    662,   Neg. LLF: 25.485421075968024\n",
      "Iteration:     21,   Func. Count:    694,   Neg. LLF: 25.47968365539404\n",
      "Iteration:     22,   Func. Count:    726,   Neg. LLF: 25.47782215931985\n",
      "Iteration:     23,   Func. Count:    758,   Neg. LLF: 25.4775259561624\n",
      "Iteration:     24,   Func. Count:    790,   Neg. LLF: 25.477511388158838\n",
      "Iteration:     25,   Func. Count:    822,   Neg. LLF: 25.477508049724243\n",
      "Iteration:     26,   Func. Count:    853,   Neg. LLF: 25.477508012707627\n",
      "Optimization terminated successfully    (Exit mode 0)\n",
      "            Current function value: 25.477508049724243\n",
      "            Iterations: 26\n",
      "            Function evaluations: 853\n",
      "            Gradient evaluations: 26\n"
     ]
    },
    {
     "name": "stderr",
     "output_type": "stream",
     "text": [
      "C:\\Users\\Calvin\\AppData\\Local\\Programs\\Python\\Python39\\lib\\site-packages\\arch\\__future__\\_utility.py:11: FutureWarning: \n",
      "The default for reindex is True. After September 2021 this will change to\n",
      "False. Set reindex to True or False to silence this message. Alternatively,\n",
      "you can use the import comment\n",
      "\n",
      "from arch.__future__ import reindexing\n",
      "\n",
      "to globally set reindex to True and silence this warning.\n",
      "\n",
      "  warnings.warn(\n"
     ]
    },
    {
     "data": {
      "image/png": "[encoded data removed]",
      "text/plain": [
       "<Figure size 432x288 with 1 Axes>"
      ]
     },
     "metadata": {
      "needs_background": "light"
     },
     "output_type": "display_data"
    }
   ],
   "source": [
    "# example of ARCH model\n",
    "from random import gauss\n",
    "from random import seed\n",
    "from matplotlib import pyplot\n",
    "from arch import arch_model\n",
    "# seed pseudorandom number generator\n",
    "seed(1)\n",
    "# create dataset\n",
    "data = [gauss(0, i*0.01) for i in range(0,100)]\n",
    "# split into train/test\n",
    "n_test = 10\n",
    "train, test = data[:-n_test], data[-n_test:]\n",
    "# define model\n",
    "model = arch_model(train, mean='Zero', vol='GARCH', p=15, q=15)\n",
    "# fit model\n",
    "model_fit = model.fit()\n",
    "# forecast the test set\n",
    "yhat = model_fit.forecast(horizon=n_test)\n",
    "# plot the actual variance\n",
    "var = [i*0.01 for i in range(0,100)]\n",
    "pyplot.plot(var[-n_test:])\n",
    "# plot forecast variance\n",
    "pyplot.plot(yhat.variance.values[-1, :])\n",
    "pyplot.show()"
   ]
  },
  {
   "cell_type": "code",
   "execution_count": 30,
   "metadata": {},
   "outputs": [],
   "source": [
    "import numpy as np\n",
    "import random\n",
    "from matplotlib import pyplot as plt\n",
    "from datetime import datetime\n",
    "import pandas as pd\n",
    "from sklearn.ensemble import RandomForestRegressor\n",
    "\n",
    "\n",
    "def getData():\n",
    "    \"\"\"\n",
    "    Random walk model simply needs to predict the open price from previous timestep with some random noise\n",
    "    params: arr (NumPy array)\n",
    "    returns: output (Numpy array of size 1 x 5)\n",
    "    \"\"\"\n",
    "    output = np.load(\"data\\\\tensor.npy\")\n",
    "    return output[:,562:,:]\n",
    "\n",
    "data = getData()"
   ]
  },
  {
   "cell_type": "code",
   "execution_count": 40,
   "metadata": {},
   "outputs": [],
   "source": [
    "import datetime as dt"
   ]
  },
  {
   "cell_type": "code",
   "execution_count": 66,
   "metadata": {},
   "outputs": [],
   "source": [
    "apple_adj = web.DataReader('AAPL', 'yahoo', start='1999-11-26', end='2019-10-23')[\"Adj Close\"]\n",
    "amzn_adj = web.DataReader('AMZN', 'yahoo', start='1999-11-26', end='2019-10-23')[\"Adj Close\"]\n",
    "msft_adj = web.DataReader('MSFT', 'yahoo', start='1999-11-26', end='2019-10-23')[\"Adj Close\"]\n",
    "\n",
    "apple_returns = 100 * apple_adj.pct_change().dropna()\n",
    "amzn_returns = 100 * amzn_adj.pct_change().dropna()\n",
    "msft_returns = 100 * msft_adj.pct_change().dropna()"
   ]
  },
  {
   "cell_type": "code",
   "execution_count": 103,
   "metadata": {},
   "outputs": [
    {
     "data": {
      "text/plain": [
       "Date\n",
       "1999-11-29   -0.525901\n",
       "1999-11-30    3.502980\n",
       "1999-12-01    5.300121\n",
       "1999-12-02    6.913243\n",
       "1999-12-03    4.367623\n",
       "                ...   \n",
       "2019-10-17    0.388272\n",
       "2019-10-18    0.480287\n",
       "2019-10-21    1.734279\n",
       "2019-10-22   -0.228688\n",
       "2019-10-23    1.341890\n",
       "Name: Adj Close, Length: 5008, dtype: float64"
      ]
     },
     "execution_count": 103,
     "metadata": {},
     "output_type": "execute_result"
    }
   ],
   "source": [
    "apple_returns"
   ]
  },
  {
   "cell_type": "code",
   "execution_count": 71,
   "metadata": {},
   "outputs": [
    {
     "data": {
      "text/plain": [
       "(5008,)"
      ]
     },
     "execution_count": 71,
     "metadata": {},
     "output_type": "execute_result"
    }
   ],
   "source": [
    ".shapeapple_returns.to_numpy()"
   ]
  },
  {
   "cell_type": "code",
   "execution_count": 84,
   "metadata": {},
   "outputs": [
    {
     "data": {
      "text/plain": [
       "(5008,)"
      ]
     },
     "execution_count": 84,
     "metadata": {},
     "output_type": "execute_result"
    }
   ],
   "source": [
    "data[0].shape\n",
    "apple_returns.to_numpy().shape"
   ]
  },
  {
   "cell_type": "code",
   "execution_count": 93,
   "metadata": {},
   "outputs": [],
   "source": [
    "apple_new = np.insert(data[0], 1, apple_returns.to_numpy(), axis=1)\n",
    "amzn_new = np.insert(data[1], 1, amzn_returns.to_numpy(), axis=1)\n",
    "msft_new = np.insert(data[2], 1, msft_returns.to_numpy(), axis=1)"
   ]
  },
  {
   "cell_type": "code",
   "execution_count": 94,
   "metadata": {},
   "outputs": [
    {
     "data": {
      "text/plain": [
       "(3, 5008, 13)"
      ]
     },
     "execution_count": 94,
     "metadata": {},
     "output_type": "execute_result"
    }
   ],
   "source": [
    "data.shape"
   ]
  },
  {
   "cell_type": "code",
   "execution_count": 102,
   "metadata": {},
   "outputs": [
    {
     "data": {
      "text/plain": [
       "array([[ 2.01910230e+07, -5.25900594e-01,  2.42100000e+02, ...,\n",
       "         7.70221000e+01,  7.91526000e+01,  8.94440000e+01],\n",
       "       [ 2.01910220e+07,  3.50298007e+00,  2.41160000e+02, ...,\n",
       "         7.60037000e+01,  6.94962000e+01,  7.80203000e+01],\n",
       "       [ 2.01910210e+07,  5.30012078e+00,  2.37520000e+02, ...,\n",
       "         7.16200000e+01,  6.50244000e+01,  6.99936000e+01],\n",
       "       ...,\n",
       "       [ 1.99912010e+07,  1.73427938e+00,  1.01000000e+02, ...,\n",
       "         7.88531000e+01,  7.26253000e+01,  6.80227000e+01],\n",
       "       [ 1.99911300e+07, -2.28688122e-01,  9.81200000e+01, ...,\n",
       "         7.54801000e+01,  7.79912000e+01,  6.97984000e+01],\n",
       "       [ 1.99911290e+07,  1.34189037e+00,  9.42500000e+01, ...,\n",
       "         6.96198000e+01,  7.65630000e+01,  8.00547000e+01]])"
      ]
     },
     "execution_count": 102,
     "metadata": {},
     "output_type": "execute_result"
    }
   ],
   "source": [
    "apple_new"
   ]
  }
 ],
 "metadata": {
  "interpreter": {
   "hash": "ba65c22c89096d306d81d10aa6315e4a6a7c200a5c173536a89973d439e71adc"
  },
  "kernelspec": {
   "display_name": "Python 3.9.6 64-bit",
   "language": "python",
   "name": "python3"
  },
  "language_info": {
   "codemirror_mode": {
    "name": "ipython",
    "version": 3
   },
   "file_extension": ".py",
   "mimetype": "text/x-python",
   "name": "python",
   "nbconvert_exporter": "python",
   "pygments_lexer": "ipython3",
   "version": "3.9.6"
  },
  "orig_nbformat": 4
 },
 "nbformat": 4,
 "nbformat_minor": 2
}
