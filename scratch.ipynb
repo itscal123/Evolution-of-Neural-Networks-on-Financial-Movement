{
 "cells": [
  {
   "cell_type": "code",
   "execution_count": 29,
   "source": [
    "import numpy as np\r\n",
    "import pandas as pd\r\n",
    "import tensorflow as tf"
   ],
   "outputs": [],
   "metadata": {}
  },
  {
   "cell_type": "code",
   "execution_count": 41,
   "source": [
    "data = pd.read_csv('data/data.csv')\r\n",
    "data.rename(columns={'Unnamed: 0':'Date'}, inplace=True)\r\n",
    "data.drop(columns='Date', inplace=True)\r\n"
   ],
   "outputs": [],
   "metadata": {}
  },
  {
   "cell_type": "code",
   "execution_count": 42,
   "source": [
    "columns = [col for col in data.columns]\r\n",
    "print(columns)"
   ],
   "outputs": [
    {
     "output_type": "stream",
     "name": "stdout",
     "text": [
      "['Open (USD)', 'High (USD)', 'Low (USD)', 'Close (USD)', 'Volume', 'Market Cap (USD)', 'SMA', 'EMA', 'RSI', 'Real Lower Band', 'Real Middle Band', 'Real Upper Band', 'MACD', 'MACD_Hist', 'MACD_Signal', 'SlowD', 'SlowK', 'Federal Fund Rate']\n"
     ]
    }
   ],
   "metadata": {}
  },
  {
   "cell_type": "code",
   "execution_count": 43,
   "source": [
    "features = data[columns].to_numpy().tolist()\r\n",
    "target = data['Close (USD)'].tolist()"
   ],
   "outputs": [],
   "metadata": {}
  },
  {
   "cell_type": "code",
   "execution_count": 44,
   "source": [
    "target[0:11]"
   ],
   "outputs": [
    {
     "output_type": "execute_result",
     "data": {
      "text/plain": [
       "[3504.77,\n",
       " 3458.11,\n",
       " 3463.22,\n",
       " 3471.59,\n",
       " 3405.37,\n",
       " 3398.4,\n",
       " 3659.04,\n",
       " 3665.18,\n",
       " 3680.06,\n",
       " 3631.05,\n",
       " 3631.46]"
      ]
     },
     "metadata": {},
     "execution_count": 44
    }
   ],
   "metadata": {}
  },
  {
   "cell_type": "code",
   "execution_count": 45,
   "source": [
    "# Take time series DataFrame and convert it to a tf.data.Dataset\r\n",
    "def make_dataset(self, data):\r\n",
    "    data = np.array(data, dtype=np.float32)\r\n",
    "    ds = tf.keras.preprocessing.timeseries_dataset_from_array(\r\n",
    "        data=data,\r\n",
    "        targets=None,\r\n",
    "        sequence_length=3,\r\n",
    "        sequence_stride=1,\r\n",
    "        shuffle=True,\r\n",
    "        batch_size=32\r\n",
    "    )"
   ],
   "outputs": [],
   "metadata": {}
  },
  {
   "cell_type": "code",
   "execution_count": 46,
   "source": [
    "X = np.arange(100)\r\n",
    "Y = X*2\r\n",
    "\r\n",
    "sample_length=20\r\n",
    "input_dataset = tf.keras.preprocessing.timeseries_dataset_from_array(\r\n",
    "    X, None, sequence_length=sample_length, sequence_stride=sample_length\r\n",
    ")\r\n",
    "target_dataset = tf.keras.preprocessing.timeseries_dataset_from_array(\r\n",
    "    Y, None, sequence_length=sample_length, sequence_stride=sample_length\r\n",
    ")\r\n",
    "for batch in zip(input_dataset, target_dataset):\r\n",
    "    inputs, targetse = batch\r\n",
    "    assert np.array_equal(inputs[0], X[:sample_length])\r\n",
    "    print(inputs.shape)\r\n",
    "    "
   ],
   "outputs": [
    {
     "output_type": "stream",
     "name": "stdout",
     "text": [
      "(5, 20)\n"
     ]
    }
   ],
   "metadata": {}
  },
  {
   "cell_type": "code",
   "execution_count": 48,
   "source": [
    "\"\"\"\r\n",
    "import plotly.express as px\r\n",
    "\r\n",
    "fig = px.line(data, x='Date', y='Close (USD)')\r\n",
    "fig.show()\r\n",
    "\"\"\""
   ],
   "outputs": [
    {
     "output_type": "execute_result",
     "data": {
      "text/plain": [
       "\"\\nimport plotly.express as px\\n\\nfig = px.line(data, x='Date', y='Close (USD)')\\nfig.show()\\n\""
      ]
     },
     "metadata": {},
     "execution_count": 48
    }
   ],
   "metadata": {}
  },
  {
   "cell_type": "code",
   "execution_count": 49,
   "source": [
    "#ts_generator = tf.keras.preprocessing.sequence.TimeseriesGenerator"
   ],
   "outputs": [],
   "metadata": {}
  },
  {
   "cell_type": "code",
   "execution_count": 74,
   "source": [
    "# using tf.keras.preprocessing.timeseries_dataset_from_array\r\n",
    "train = tf.keras.preprocessing.timeseries_dataset_from_array(\r\n",
    "    features,\r\n",
    "    target,\r\n",
    "    sequence_length=7,\r\n",
    "    batch_size=3\r\n",
    ")\r\n",
    "print(type(train))\r\n"
   ],
   "outputs": [
    {
     "output_type": "stream",
     "name": "stdout",
     "text": [
      "<class 'tensorflow.python.data.ops.dataset_ops.BatchDataset'>\n"
     ]
    }
   ],
   "metadata": {}
  },
  {
   "cell_type": "code",
   "execution_count": null,
   "source": [],
   "outputs": [],
   "metadata": {}
  }
 ],
 "metadata": {
  "orig_nbformat": 4,
  "language_info": {
   "name": "python",
   "version": "3.9.6",
   "mimetype": "text/x-python",
   "codemirror_mode": {
    "name": "ipython",
    "version": 3
   },
   "pygments_lexer": "ipython3",
   "nbconvert_exporter": "python",
   "file_extension": ".py"
  },
  "kernelspec": {
   "name": "python3",
   "display_name": "Python 3.9.6 64-bit"
  },
  "interpreter": {
   "hash": "ba65c22c89096d306d81d10aa6315e4a6a7c200a5c173536a89973d439e71adc"
  }
 },
 "nbformat": 4,
 "nbformat_minor": 2
}